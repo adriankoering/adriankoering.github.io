{
 "cells": [
  {
   "cell_type": "markdown",
   "metadata": {},
   "source": [
    "# Code Portfolio\n",
    "\n",
    "*Adrian Köring*"
   ]
  },
  {
   "cell_type": "markdown",
   "metadata": {},
   "source": [
    "### [Padvinder](https://github.com/adriankoering/padvinder)\n",
    "\n",
    "Object-oriented, test-driven development of a renderer in Python. Padvinder is meant to be a dutchly flavoured word for pathtracing; encoding the algorithm used for rendering with Guido van Rossum's dutch origins."
   ]
  },
  {
   "cell_type": "markdown",
   "metadata": {},
   "source": [
    "### [k-Nearest-Neighbors Classifier](https://github.com/adriankoering/k-nearest-neighbors-classifier)\n",
    "\n",
    "Explaining, implementing and visualising a k-nearest-neighbors classifier (KNN) in a jupyter-notebook directly displayed by Github."
   ]
  },
  {
   "cell_type": "markdown",
   "metadata": {},
   "source": [
    "### [Tensorflow CC Inference](https://github.com/adriankoering/tensorflow-cc-inference)\n",
    "\n",
    "C++ library that executes neural networks written using tensorflow for inference."
   ]
  },
  {
   "cell_type": "markdown",
   "metadata": {},
   "source": [
    "### [Multi-Frame Noise Reduction](https://github.com/adriankoering/multi-frame-noise-reduction)\n",
    "\n",
    "Compute an image with reduced camera noise from a stack of images taken in quick succession of the same scene."
   ]
  },
  {
   "cell_type": "markdown",
   "metadata": {},
   "source": [
    "### [Cuda kNN](https://github.com/adriankoering/cuda-knn)\n",
    "\n",
    "Implmentation of a k-nearest-neighbor classifier using Nvidia's Cuda programming model."
   ]
  },
  {
   "cell_type": "markdown",
   "metadata": {},
   "source": [
    "### [Classification CNN's for Image Segmentation](https://github.com/adriankoering/classification-cnns-for-segmentation)\n",
    "\n",
    "Exploring how to use CNN's explicitly trained for image classification for the problem of (rudimentary) image segmentation."
   ]
  },
  {
   "cell_type": "code",
   "execution_count": null,
   "metadata": {
    "collapsed": true
   },
   "outputs": [],
   "source": []
  }
 ],
 "metadata": {
  "kernelspec": {
   "display_name": "Python 3",
   "language": "python",
   "name": "python3"
  },
  "language_info": {
   "codemirror_mode": {
    "name": "ipython",
    "version": 3
   },
   "file_extension": ".py",
   "mimetype": "text/x-python",
   "name": "python",
   "nbconvert_exporter": "python",
   "pygments_lexer": "ipython3",
   "version": "3.6.3"
  }
 },
 "nbformat": 4,
 "nbformat_minor": 2
}
